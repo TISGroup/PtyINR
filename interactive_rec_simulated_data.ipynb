{
 "cells": [
  {
   "cell_type": "markdown",
   "id": "4be405de-6c02-42be-becd-b67698cf073c",
   "metadata": {},
   "source": [
    "## **Import libraries**"
   ]
  },
  {
   "cell_type": "code",
   "execution_count": null,
   "id": "c68d2c34-55e4-4bbf-8ff2-ea71f2c17c63",
   "metadata": {
    "ExecuteTime": {
     "start_time": "2024-10-29T04:51:15.816121Z"
    },
    "jupyter": {
     "is_executing": true
    },
    "tags": []
   },
   "outputs": [],
   "source": [
    "import numpy as np\n",
    "import tinycudann as tcnn\n",
    "from utils.Deep_Models import *\n",
    "from Parameters import *\n",
    "from utils.Forward import *\n",
    "from utils.Simulate_Data_Process import*\n",
    "from utils.Training_models import *\n",
    "import h5py\n",
    "import commentjson as json\n",
    "import time"
   ]
  },
  {
   "cell_type": "markdown",
   "id": "d037d00b-3091-441c-96b2-a0d07079ac39",
   "metadata": {},
   "source": [
    "## **Load ground truth object and probe**"
   ]
  },
  {
   "cell_type": "code",
   "execution_count": null,
   "id": "56c68e57-10fa-4a73-aef5-9ca5e5341dad",
   "metadata": {},
   "outputs": [],
   "source": [
    "def recenter_probe(probe):\n",
    "\n",
    "    center=int(probe.shape[0]/2)\n",
    "    max_index=(probe.abs()==torch.max(probe.abs())).nonzero()\n",
    "    shift=(center-max_index[0,0],center-max_index[0,1])\n",
    "    recentered_probe = torch.roll(probe, shifts=tuple(shift), dims=(0, 1))\n",
    "\n",
    "    return recentered_probe"
   ]
  },
  {
   "cell_type": "code",
   "execution_count": null,
   "id": "5fa16edd-0ab7-477c-8d21-ff477ce44d26",
   "metadata": {
    "ExecuteTime": {
     "end_time": "2024-10-23T10:24:39.861879Z",
     "start_time": "2024-10-23T10:24:39.813033Z"
    }
   },
   "outputs": [],
   "source": [
    "crystal=np.load(\"data/crystal.npy\")[303:,303:]"
   ]
  },
  {
   "cell_type": "code",
   "execution_count": null,
   "id": "3dbb1ccb-9703-4bed-baca-0cda8fb5b5e3",
   "metadata": {
    "ExecuteTime": {
     "end_time": "2024-10-23T10:24:41.045796Z",
     "start_time": "2024-10-23T10:24:41.042079Z"
    }
   },
   "outputs": [],
   "source": [
    "probe=np.load(\"data/probe.npy\")"
   ]
  },
  {
   "cell_type": "code",
   "execution_count": null,
   "id": "9b5e021a-0d1f-4c77-a58c-39e530abfb8f",
   "metadata": {
    "ExecuteTime": {
     "end_time": "2024-10-23T10:24:42.686894Z",
     "start_time": "2024-10-23T10:24:42.544605Z"
    },
    "tags": []
   },
   "outputs": [],
   "source": [
    "plt.imshow(np.abs(probe))"
   ]
  },
  {
   "cell_type": "code",
   "execution_count": null,
   "id": "cbb62314-60b0-45f9-9831-97558ad42b31",
   "metadata": {},
   "outputs": [],
   "source": [
    "plt.imshow(np.angle(probe))"
   ]
  },
  {
   "cell_type": "code",
   "execution_count": null,
   "id": "93dab14b-7c72-4b68-9b49-02bf8c31311c",
   "metadata": {},
   "outputs": [],
   "source": [
    "probe=torch.tensor(probe)"
   ]
  },
  {
   "cell_type": "code",
   "execution_count": null,
   "id": "94f3752c-0c3b-48ea-b520-a18a05975ca9",
   "metadata": {},
   "outputs": [],
   "source": [
    "probe=probe.numpy()"
   ]
  },
  {
   "cell_type": "markdown",
   "id": "de524999-d01e-4bb7-a472-e3c3457023f7",
   "metadata": {},
   "source": [
    "## **crop the central part of the real probe, make it to be 64*64**"
   ]
  },
  {
   "cell_type": "code",
   "execution_count": null,
   "id": "f77c1b94-c68f-4ad1-b0e9-5e54e0f11747",
   "metadata": {},
   "outputs": [],
   "source": [
    "probe=probe[24:-24,24:-24]"
   ]
  },
  {
   "cell_type": "code",
   "execution_count": null,
   "id": "e5bb5522-1440-4579-aaca-819bcd60618b",
   "metadata": {},
   "outputs": [],
   "source": [
    "probe=torch.tensor(probe).cuda()"
   ]
  },
  {
   "cell_type": "code",
   "execution_count": null,
   "id": "dfad834e-b61a-4a9e-a885-087d03922bdf",
   "metadata": {},
   "outputs": [],
   "source": [
    "np.abs(probe.cpu()).max()"
   ]
  },
  {
   "cell_type": "markdown",
   "id": "b8cbb9c7-f9e3-4bb6-a156-441479a90995",
   "metadata": {},
   "source": [
    "## **Overlap ratio and noise level define**"
   ]
  },
  {
   "cell_type": "code",
   "execution_count": null,
   "id": "1aa3a5f6-f4ff-4a8d-8e82-f3b4397962d9",
   "metadata": {},
   "outputs": [],
   "source": [
    "overlap=0.95             #choose between 0.95 0.9 0.8   0.6 0.3\n",
    "noise_tag=\"poisson_high\"         #choose between clean, gaussian low, gaussian high, poisson low, poisson high, combined\n",
    "parameters[\"probe_known\"]=False\n",
    "probe_tag=\"probe_unknown\"\n",
    "parameters[\"probe_shape\"]=\"circ\"      # choose between circ and rect"
   ]
  },
  {
   "cell_type": "code",
   "execution_count": null,
   "id": "fdb2b4de-d7ac-45f2-ba27-ec1c188d3db3",
   "metadata": {
    "ExecuteTime": {
     "end_time": "2024-10-23T10:24:54.731179Z",
     "start_time": "2024-10-23T10:24:54.720285Z"
    }
   },
   "outputs": [],
   "source": [
    "parameters[\"overlap_ratio\"]=overlap\n",
    "step_size=round((1-parameters[\"overlap_ratio\"])*probe.shape[0])\n",
    "\n",
    "pad_number=step_size-(241-probe.shape[0])%step_size\n",
    "\n",
    "if pad_number!=step_size:\n",
    "    pad=nn.ZeroPad2d((0, pad_number, 0, pad_number))\n",
    "    case_obj=torch.tensor(crystal)\n",
    "    case_obj=pad(case_obj)\n",
    "    case_obj=case_obj.numpy()\n",
    "else:\n",
    "    case_obj=crystal\n",
    "    \n",
    "if ((case_obj.shape[0]-probe.shape[0])/step_size+1)%2!=0:\n",
    "    case_obj=torch.tensor(case_obj)\n",
    "    pad=nn.ZeroPad2d((0, step_size, 0, step_size))\n",
    "    case_obj=pad(case_obj)\n",
    "    case_obj=case_obj.numpy()\n",
    "\n",
    "print(\"test object shape: \",case_obj.shape)\n",
    "print(\"overlap ratio: \",parameters[\"overlap_ratio\"])\n",
    "parameters[\"obj_size\"]=case_obj.shape[0]"
   ]
  },
  {
   "cell_type": "code",
   "execution_count": null,
   "id": "275aba70-41ef-440e-a1f6-a9e3b84f91c0",
   "metadata": {},
   "outputs": [],
   "source": [
    "parameters"
   ]
  },
  {
   "cell_type": "markdown",
   "id": "434accda-7950-4357-8198-bd5033f0c3d3",
   "metadata": {},
   "source": [
    "## **Generate diffraction patterns**"
   ]
  },
  {
   "cell_type": "code",
   "execution_count": null,
   "id": "319d7d7c-3389-4cff-bc01-51505286db41",
   "metadata": {},
   "outputs": [],
   "source": [
    "case_obj=crystal"
   ]
  },
  {
   "cell_type": "code",
   "execution_count": null,
   "id": "18432c99-2ec5-464c-9ab0-15b91d7d4885",
   "metadata": {
    "ExecuteTime": {
     "end_time": "2024-10-22T11:12:25.909490Z",
     "start_time": "2024-10-22T11:12:19.323201Z"
    },
    "tags": []
   },
   "outputs": [],
   "source": [
    "h5=SCAN_Iterative_Methods_Process(amplitude_gt=torch.tensor(np.abs(case_obj)),phase_gt=torch.tensor(np.angle(case_obj))\n",
    "                                   ,overlap_ratio=overlap,probe=probe,\n",
    "                       parameters=parameters,noise=noise_tag)"
   ]
  },
  {
   "cell_type": "code",
   "execution_count": null,
   "id": "a036b31a-46eb-45d8-b006-702efc1eb9b9",
   "metadata": {},
   "outputs": [],
   "source": [
    "noise_tag"
   ]
  },
  {
   "cell_type": "markdown",
   "id": "2ff334ff-1db3-433c-969a-23f15029a105",
   "metadata": {},
   "source": [
    "## **Iterative methods**"
   ]
  },
  {
   "cell_type": "markdown",
   "id": "3cbda3a3-269c-4cb4-be80-ebfcf9f4bec6",
   "metadata": {},
   "source": [
    "### 1) ePIE"
   ]
  },
  {
   "cell_type": "code",
   "execution_count": null,
   "id": "32156921-7a26-467b-a31c-3d70bb69ef1d",
   "metadata": {
    "ExecuteTime": {
     "end_time": "2024-10-22T11:12:36.188830Z",
     "start_time": "2024-10-22T11:12:36.177638Z"
    },
    "tags": []
   },
   "outputs": [],
   "source": [
    "parameters[\"tag\"]=\"crystal_\"+noise_tag+\"_ePIE_\"+str(overlap)+\"_\"+probe_tag\n",
    "parameters[\"total_steps\"] = 300\n",
    "parameters[\"a\"]=1\n",
    "parameters[\"b\"]=1\n",
    "parameters[\"probe_update_start\"]=0"
   ]
  },
  {
   "cell_type": "code",
   "execution_count": null,
   "id": "621be6eb-207a-4ce1-af00-548ec4d3bc39",
   "metadata": {},
   "outputs": [],
   "source": [
    "train_model(parameters,h5,probe,model_name=\"ePIE\",trained=False)"
   ]
  },
  {
   "cell_type": "markdown",
   "id": "4423c5db-4635-4f7f-84f1-009089dc909e",
   "metadata": {},
   "source": [
    "### 2) DM"
   ]
  },
  {
   "cell_type": "code",
   "execution_count": null,
   "id": "ef897665-2f90-4d8d-9664-dc7e51af9d60",
   "metadata": {
    "ExecuteTime": {
     "end_time": "2024-10-22T10:10:11.944770Z",
     "start_time": "2024-10-22T10:10:11.934866Z"
    },
    "tags": []
   },
   "outputs": [],
   "source": [
    "parameters[\"tag\"]=\"crystal_\"+noise_tag+\"_DM_\"+str(overlap)+\"_\"+probe_tag\n",
    "parameters[\"total_steps\"] = 300\n",
    "parameters[\"DM_alpha\"]=0.1\n",
    "parameters[\"fourier_relax_factor\"]=0.05\n",
    "parameters[\"probe_update_start\"]=0"
   ]
  },
  {
   "cell_type": "code",
   "execution_count": null,
   "id": "f8c66c1e-a8bf-47da-9b5a-fcc0b019262d",
   "metadata": {
    "tags": []
   },
   "outputs": [],
   "source": [
    "train_model(parameters,h5,probe,model_name=\"DM\",trained=False)"
   ]
  },
  {
   "cell_type": "markdown",
   "id": "30cdfca3-0cd8-45dd-9916-6b6d53a98ae6",
   "metadata": {},
   "source": [
    "## **Deep methods**"
   ]
  },
  {
   "cell_type": "markdown",
   "id": "593f3760-8e72-4905-88e1-a17d3476fd84",
   "metadata": {},
   "source": [
    "## 1) PtyINR"
   ]
  },
  {
   "cell_type": "code",
   "execution_count": null,
   "id": "a2be8467-71ab-4aad-a064-de08073ca191",
   "metadata": {},
   "outputs": [],
   "source": [
    "parameters[\"tag\"]=\"crystal_\"+noise_tag+\"_Pty_INR_\"+str(overlap)+\"_\"+probe_tag\n",
    "parameters[\"total_steps\"] = 3000\n",
    "parameters[\"diffraction_scale\"]=1600\n",
    "parameters[\"batches\"]=[9800,9800]\n",
    "parameters[\"LR\"]=1e-4            # for object amplitude       \n",
    "parameters[\"LR2\"]=1e-4         # for object phase \n",
    "parameters[\"LR3\"]=5e-5           # for probe amplitude\n",
    "parameters[\"LR4\"]=5e-5         # for probe phase\n",
    "parameters[\"regularized_loss_weight\"]=1e-2        #1\n",
    "parameters[\"regularized_steps\"]=50\n",
    "parameters[\"show_every\"]=50\n",
    "parameters[\"first_omega\"]=60\n",
    "parameters[\"loss\"]=\"SmoothL1\"\n",
    "parameters[\"beta_for_smoothl1\"]=1e-5"
   ]
  },
  {
   "cell_type": "markdown",
   "id": "053543e0-8eea-4998-9f71-a87b71f16232",
   "metadata": {
    "tags": []
   },
   "source": [
    "train_model(parameters,h5,probe,model_name=\"Pty_INR\",trained=False)"
   ]
  }
 ],
 "metadata": {
  "kernelspec": {
   "display_name": "Python 3 (ipykernel)",
   "language": "python",
   "name": "python3"
  },
  "language_info": {
   "codemirror_mode": {
    "name": "ipython",
    "version": 3
   },
   "file_extension": ".py",
   "mimetype": "text/x-python",
   "name": "python",
   "nbconvert_exporter": "python",
   "pygments_lexer": "ipython3",
   "version": "3.10.12"
  }
 },
 "nbformat": 4,
 "nbformat_minor": 5
}
