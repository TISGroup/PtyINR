{
 "cells": [
  {
   "cell_type": "markdown",
   "id": "4be405de-6c02-42be-becd-b67698cf073c",
   "metadata": {},
   "source": [
    "## **Import libraries**"
   ]
  },
  {
   "cell_type": "code",
   "execution_count": null,
   "id": "c68d2c34-55e4-4bbf-8ff2-ea71f2c17c63",
   "metadata": {
    "ExecuteTime": {
     "start_time": "2024-10-29T04:51:15.816121Z"
    },
    "jupyter": {
     "is_executing": true
    },
    "tags": []
   },
   "outputs": [],
   "source": [
    "import numpy as np\n",
    "import os\n",
    "import tinycudann as tcnn\n",
    "from utils.Deep_Models import *\n",
    "from Parameters import *\n",
    "from utils.Forward import *\n",
    "from utils.Simulate_Data_Process import*\n",
    "from utils.Training_models import *\n",
    "import h5py\n",
    "import commentjson as json\n",
    "import time"
   ]
  },
  {
   "cell_type": "markdown",
   "id": "d037d00b-3091-441c-96b2-a0d07079ac39",
   "metadata": {},
   "source": [
    "## **Load ground truth object and probe**"
   ]
  },
  {
   "cell_type": "code",
   "execution_count": null,
   "id": "56c68e57-10fa-4a73-aef5-9ca5e5341dad",
   "metadata": {},
   "outputs": [],
   "source": [
    "def recenter_probe(probe):\n",
    "\n",
    "    center=int(probe.shape[0]/2)\n",
    "    max_index=(probe.abs()==torch.max(probe.abs())).nonzero()\n",
    "    shift=(center-max_index[0,0],center-max_index[0,1])\n",
    "    recentered_probe = torch.roll(probe, shifts=tuple(shift), dims=(0, 1))\n",
    "\n",
    "    return recentered_probe"
   ]
  },
  {
   "cell_type": "code",
   "execution_count": null,
   "id": "5fa16edd-0ab7-477c-8d21-ff477ce44d26",
   "metadata": {
    "ExecuteTime": {
     "end_time": "2024-10-23T10:24:39.861879Z",
     "start_time": "2024-10-23T10:24:39.813033Z"
    }
   },
   "outputs": [],
   "source": [
    "crystal=np.load(\"data/crystal.npy\")[303:,303:]"
   ]
  },
  {
   "cell_type": "code",
   "execution_count": null,
   "id": "0c32fe4e-55e8-4021-87fb-734876cd574a",
   "metadata": {},
   "outputs": [],
   "source": [
    "crystal.shape"
   ]
  },
  {
   "cell_type": "code",
   "execution_count": null,
   "id": "3dbb1ccb-9703-4bed-baca-0cda8fb5b5e3",
   "metadata": {
    "ExecuteTime": {
     "end_time": "2024-10-23T10:24:41.045796Z",
     "start_time": "2024-10-23T10:24:41.042079Z"
    }
   },
   "outputs": [],
   "source": [
    "probe=np.load(\"data/probe_for_sim.npy\")"
   ]
  },
  {
   "cell_type": "code",
   "execution_count": null,
   "id": "9b5e021a-0d1f-4c77-a58c-39e530abfb8f",
   "metadata": {
    "ExecuteTime": {
     "end_time": "2024-10-23T10:24:42.686894Z",
     "start_time": "2024-10-23T10:24:42.544605Z"
    },
    "tags": []
   },
   "outputs": [],
   "source": [
    "plt.imshow(np.abs(probe))"
   ]
  },
  {
   "cell_type": "code",
   "execution_count": null,
   "id": "644836f8-5ff5-4b29-b1ff-3a9fc2da7af1",
   "metadata": {},
   "outputs": [],
   "source": [
    "np.abs(probe).flatten()"
   ]
  },
  {
   "cell_type": "code",
   "execution_count": null,
   "id": "cbb62314-60b0-45f9-9831-97558ad42b31",
   "metadata": {},
   "outputs": [],
   "source": [
    "plt.imshow(np.angle(probe))"
   ]
  },
  {
   "cell_type": "markdown",
   "id": "de524999-d01e-4bb7-a472-e3c3457023f7",
   "metadata": {},
   "source": [
    "## **Crop the central part of the real probe, make it to be 64*64**"
   ]
  },
  {
   "cell_type": "code",
   "execution_count": null,
   "id": "e5bb5522-1440-4579-aaca-819bcd60618b",
   "metadata": {},
   "outputs": [],
   "source": [
    "probe=torch.tensor(probe).cuda()[24:-24,24:-24]"
   ]
  },
  {
   "cell_type": "markdown",
   "id": "b8cbb9c7-f9e3-4bb6-a156-441479a90995",
   "metadata": {},
   "source": [
    "## **Overlap ratio and noise level define**"
   ]
  },
  {
   "cell_type": "code",
   "execution_count": null,
   "id": "1aa3a5f6-f4ff-4a8d-8e82-f3b4397962d9",
   "metadata": {},
   "outputs": [],
   "source": [
    "overlap=0.95           #choose between 0.95 0.9 0.8   0.6 0.3\n",
    "noise_tag=\"clean\"         #choose between clean, gaussian, poisson, combined\n",
    "parameters[\"probe_known\"]=False\n",
    "probe_tag=\"probe_unknown\"\n",
    "parameters[\"probe_shape\"]=\"circ\"      # choose between circ and rect"
   ]
  },
  {
   "cell_type": "code",
   "execution_count": null,
   "id": "fdb2b4de-d7ac-45f2-ba27-ec1c188d3db3",
   "metadata": {
    "ExecuteTime": {
     "end_time": "2024-10-23T10:24:54.731179Z",
     "start_time": "2024-10-23T10:24:54.720285Z"
    }
   },
   "outputs": [],
   "source": [
    "parameters[\"overlap_ratio\"]=overlap\n",
    "step_size=round((1-parameters[\"overlap_ratio\"])*probe.shape[0])\n",
    "\n",
    "pad_number=step_size-(241-probe.shape[0])%step_size\n",
    "\n",
    "if pad_number!=step_size:\n",
    "    pad=nn.ZeroPad2d((0, pad_number, 0, pad_number))\n",
    "    case_obj=torch.tensor(crystal)\n",
    "    case_obj=pad(case_obj)\n",
    "    case_obj=case_obj.numpy()\n",
    "else:\n",
    "    case_obj=crystal\n",
    "    \n",
    "if ((case_obj.shape[0]-probe.shape[0])/step_size+1)%2!=0:\n",
    "    case_obj=torch.tensor(case_obj)\n",
    "    pad=nn.ZeroPad2d((0, step_size, 0, step_size))\n",
    "    case_obj=pad(case_obj)\n",
    "    case_obj=case_obj.numpy()\n",
    "\n",
    "print(\"test object shape: \",case_obj.shape)\n",
    "print(\"overlap ratio: \",parameters[\"overlap_ratio\"])\n",
    "parameters[\"obj_size\"]=case_obj.shape[0]"
   ]
  },
  {
   "cell_type": "markdown",
   "id": "434accda-7950-4357-8198-bd5033f0c3d3",
   "metadata": {},
   "source": [
    "## **Generate diffraction patterns**"
   ]
  },
  {
   "cell_type": "code",
   "execution_count": null,
   "id": "18432c99-2ec5-464c-9ab0-15b91d7d4885",
   "metadata": {
    "ExecuteTime": {
     "end_time": "2024-10-22T11:12:25.909490Z",
     "start_time": "2024-10-22T11:12:19.323201Z"
    },
    "tags": []
   },
   "outputs": [],
   "source": [
    "h5=diffraction_pattern_generate(amplitude_gt=torch.tensor(np.abs(case_obj)),phase_gt=torch.tensor(np.angle(case_obj))\n",
    "                                   ,overlap_ratio=overlap,probe=probe,\n",
    "                       parameters=parameters,noise=noise_tag)"
   ]
  },
  {
   "cell_type": "code",
   "execution_count": null,
   "id": "119aa8e3-a208-4baa-a114-ca62ef914ae4",
   "metadata": {},
   "outputs": [],
   "source": [
    "plt.imshow(h5[\"diffamp\"][()][10],cmap=\"grey\")"
   ]
  },
  {
   "cell_type": "markdown",
   "id": "593f3760-8e72-4905-88e1-a17d3476fd84",
   "metadata": {},
   "source": [
    "## Training\n",
    "You may also change hyperparameters from Parameters.py"
   ]
  },
  {
   "cell_type": "code",
   "execution_count": null,
   "id": "02f9f081-49f6-4dcf-8f99-0d8f3498a177",
   "metadata": {},
   "outputs": [],
   "source": [
    "parameters[\"tag\"]=\"crystal_\"+noise_tag+\"_PtyINR_\"+str(overlap)+\"_\"+probe_tag\n",
    "parameters[\"total_steps\"] = 5000\n",
    "parameters[\"diffraction_scale\"]=1200\n",
    "\n",
    "parameters[\"train_method\"]=\"mini_batch\"   \n",
    "parameters[\"batches\"]=3600\n",
    "parameters[\"LR\"]=6e-5           # for object amplitude       \n",
    "parameters[\"LR2\"]=6e-5         # for object phase \n",
    "parameters[\"LR3\"]=5e-5           # for probe amplitude\n",
    "parameters[\"LR4\"]=5e-5         # for probe phase\n",
    "parameters[\"regularized_loss_weight\"]=1e-1     #1\n",
    "parameters[\"regularized_steps\"]=50\n",
    "parameters[\"show_every\"]=100\n",
    "parameters[\"first_omega\"]=30\n",
    "\n",
    "parameters[\"loss\"]=\"SmoothL1\"\n",
    "parameters[\"beta_for_smoothl1\"]=1e-3"
   ]
  },
  {
   "cell_type": "code",
   "execution_count": null,
   "id": "79608751-13e8-407d-968a-8de103038ea2",
   "metadata": {
    "scrolled": true,
    "tags": []
   },
   "outputs": [],
   "source": [
    "train_model(parameters,h5,probe)"
   ]
  }
 ],
 "metadata": {
  "kernelspec": {
   "display_name": "Python 3 (ipykernel)",
   "language": "python",
   "name": "python3"
  },
  "language_info": {
   "codemirror_mode": {
    "name": "ipython",
    "version": 3
   },
   "file_extension": ".py",
   "mimetype": "text/x-python",
   "name": "python",
   "nbconvert_exporter": "python",
   "pygments_lexer": "ipython3",
   "version": "3.10.12"
  }
 },
 "nbformat": 4,
 "nbformat_minor": 5
}
