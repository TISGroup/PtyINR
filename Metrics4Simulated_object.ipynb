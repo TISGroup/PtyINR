{
 "cells": [
  {
   "cell_type": "code",
   "execution_count": null,
   "id": "847267f5-5742-4141-baa3-e8b26f09f113",
   "metadata": {
    "tags": []
   },
   "outputs": [],
   "source": [
    "import numpy as np\n",
    "import matplotlib.pyplot as plt\n",
    "import os\n",
    "from PIL import Image,ImageChops\n",
    "from torchvision.transforms import Resize, Compose, ToTensor, Normalize, Grayscale, Pad\n",
    "import matplotlib.pyplot as plt\n",
    "from skimage import data\n",
    "import skimage\n",
    "from skimage.metrics import structural_similarity as ssim"
   ]
  },
  {
   "cell_type": "markdown",
   "id": "ed7350f2-d9cb-422a-9b9c-355aedf56e25",
   "metadata": {},
   "source": [
    "## Load ground truth"
   ]
  },
  {
   "cell_type": "code",
   "execution_count": null,
   "id": "2f76b612-7192-4e8a-b561-34429b98f0be",
   "metadata": {
    "tags": []
   },
   "outputs": [],
   "source": [
    "obj_act=np.load(\"data/crystal.npy\")\n",
    "obj_act=obj_act[-241:,-241:]\n",
    "obj_act=obj_act[30:-30,30:-30]\n",
    "probe_act=np.load(\"data/probe_for_sim.npy\")[24:-24,24:-24]"
   ]
  },
  {
   "cell_type": "code",
   "execution_count": null,
   "id": "0d03842c-5368-424f-9dc0-c1175bafa551",
   "metadata": {
    "tags": []
   },
   "outputs": [],
   "source": [
    "amp_act=np.abs(obj_act)\n",
    "phase_act=np.angle(obj_act)"
   ]
  },
  {
   "cell_type": "code",
   "execution_count": null,
   "id": "51f1e776-7445-481b-a75a-aff8280c0b8e",
   "metadata": {
    "tags": []
   },
   "outputs": [],
   "source": [
    "current_path=os.getcwd()"
   ]
  },
  {
   "cell_type": "code",
   "execution_count": null,
   "id": "f50b5a3e-1c75-4840-82be-1cdb8d70ddfa",
   "metadata": {
    "tags": []
   },
   "outputs": [],
   "source": [
    "current_path"
   ]
  },
  {
   "cell_type": "code",
   "execution_count": null,
   "id": "910d65cd-ed83-4a92-87a8-d85de1b5b12f",
   "metadata": {
    "tags": []
   },
   "outputs": [],
   "source": [
    "def psnr_amp(original, compressed): \n",
    "    mse = np.mean((original - compressed) ** 2) \n",
    "    if(mse == 0):  # MSE is zero means no noise is present in the signal . \n",
    "                  # Therefore PSNR have no importance. \n",
    "        return 100\n",
    "    max_pixel = 1.0\n",
    "    psnr = 20 * log10(max_pixel / sqrt(mse)) \n",
    "    return [psnr,ssim(original,compressed,data_range=1)] "
   ]
  },
  {
   "cell_type": "code",
   "execution_count": null,
   "id": "f7ed0077-c01d-4c22-ae1b-a50c65967be2",
   "metadata": {
    "tags": []
   },
   "outputs": [],
   "source": [
    "def psnr_phase(original, compressed): \n",
    "    mse = np.mean((original - compressed) ** 2) \n",
    "    if(mse == 0):  # MSE is zero means no noise is present in the signal . \n",
    "                  # Therefore PSNR have no importance. \n",
    "        return 100\n",
    "    max_pixel = np.pi\n",
    "    psnr = 20 * log10(max_pixel / sqrt(mse)) \n",
    "    return [psnr,ssim(original,compressed,data_range=2*np.pi)] "
   ]
  },
  {
   "cell_type": "code",
   "execution_count": null,
   "id": "681ec89a-90c0-4884-b99e-9bdaa3670506",
   "metadata": {
    "tags": []
   },
   "outputs": [],
   "source": [
    "from math import log10, sqrt "
   ]
  },
  {
   "cell_type": "code",
   "execution_count": null,
   "id": "ec96478b-2eb7-4a9b-959d-5cbff56b4d6e",
   "metadata": {},
   "outputs": [],
   "source": [
    "os.chdir(\"result\")"
   ]
  },
  {
   "cell_type": "code",
   "execution_count": null,
   "id": "81dc4512-3d08-4885-a063-fcaccf7a91fa",
   "metadata": {},
   "outputs": [],
   "source": [
    "plt.imshow(np.abs(obj_act),cmap=\"grey\")"
   ]
  },
  {
   "cell_type": "code",
   "execution_count": null,
   "id": "3f11614f-cb2f-4d5e-b2ee-bbe871e43e59",
   "metadata": {},
   "outputs": [],
   "source": [
    "plt.imshow(np.angle(obj_act),cmap=\"magma_r\")"
   ]
  },
  {
   "cell_type": "markdown",
   "id": "76116696-2877-4e86-9d33-a4595198b3ec",
   "metadata": {},
   "source": [
    "## Find the phase shift of the object phase using the least square method"
   ]
  },
  {
   "cell_type": "code",
   "execution_count": null,
   "id": "820664d1-978d-452c-8d9c-4b5dedcb8849",
   "metadata": {},
   "outputs": [],
   "source": [
    "def find_global_phase_shift_loop(A, B, num_steps=100000):\n",
    "    best_phi = 0\n",
    "    min_error = float('inf')\n",
    "\n",
    "    phase_range = np.linspace(-np.pi, np.pi, num_steps)\n",
    "\n",
    "    for phi in phase_range:\n",
    "        error =  np.mean((np.angle(A*np.exp(phi*1j))-B)**2) # Compute least squares error\n",
    "\n",
    "        if error < min_error:\n",
    "            min_error = error\n",
    "            best_phi = phi  # Update best phase shift\n",
    "\n",
    "    return best_phi"
   ]
  },
  {
   "cell_type": "markdown",
   "id": "82a5e833-542f-4910-b477-77142c722d9a",
   "metadata": {},
   "source": [
    "## Calculate the PSNR of object amplitude and phase with CPU"
   ]
  },
  {
   "cell_type": "code",
   "execution_count": null,
   "id": "b940c9d2-28ff-4230-8dbd-2fdcd8c6ac52",
   "metadata": {},
   "outputs": [],
   "source": [
    "import os\n",
    "import csv\n",
    "import numpy as np\n",
    "\n",
    "\n",
    "# Loop through the files and calculate metrics\n",
    "for filename in os.listdir(\".\"):\n",
    "    if \"npy\" in filename and \"crystal\" in filename and \"obj\" in filename and \"_unknown\" in filename and \"PtyINR\" in filename:\n",
    "        obj = np.load(filename)\n",
    "        \n",
    "        # Process object array\n",
    "        obj = obj[:241, :241]\n",
    "        amp = np.abs(obj)[30:-30, 30:-30]\n",
    "        amp = amp * np.median(amp_act) / np.median(amp)\n",
    "        amp = amp.clip(max=1)\n",
    "        phase_shift = find_global_phase_shift_loop(obj[30:-30, 30:-30], phase_act)\n",
    "        phase = np.angle(obj * np.exp(phase_shift * 1j))[30:-30, 30:-30]\n",
    "\n",
    "\n",
    "        # plt.imsave(\"images/\"+(filename[:-4]+\"_obj_amp.tiff\"),amp,vmin=amp_act.min(), vmax=amp_act.max(),cmap=\"grey\")\n",
    "        # plt.imsave((\"images/\"+filename[:-4]+\"_obj_phase.tiff\"),phase,vmin=phase_act.min(), vmax=phase_act.max(),cmap=\"magma_r\")\n",
    "        # plt.imsave(\"images/\"+(filename[:-4]+\"_obj_amp_croped.tiff\"),amp[35:95,62:122],vmin=amp_act.min(), vmax=amp_act.max(),cmap=\"grey\")\n",
    "        # plt.imsave((\"images/\"+filename[:-4]+\"_obj_phase_croped.tiff\"),phase[35:95,62:122],vmin=phase_act.min(), vmax=phase_act.max(),cmap=\"magma_r\")\n",
    "        # # Calculate PSNR metrics\n",
    "        psnr_amp_result = psnr_amp(amp, amp_act)\n",
    "        psnr_phase_result = psnr_phase(phase, phase_act)\n",
    "\n",
    "        # Extract PSNR values\n",
    "        psnr_amp_1 = round(psnr_amp_result[0], 2)\n",
    "        psnr_amp_2 = round(psnr_amp_result[1], 2)\n",
    "        psnr_phase_1 = round(psnr_phase_result[0], 2)\n",
    "        psnr_phase_2 = round(psnr_phase_result[1], 2)\n",
    "        print(f\"{filename} : {psnr_amp_1}/{psnr_amp_2}  {psnr_phase_1}/{psnr_phase_2}\")\n"
   ]
  },
  {
   "cell_type": "markdown",
   "id": "2667820b-0a3b-4932-86b5-8201e04fb24d",
   "metadata": {},
   "source": [
    "## Below is GPU version of metrics calculation (faster)"
   ]
  },
  {
   "cell_type": "code",
   "execution_count": null,
   "id": "c170622a-bb66-42d3-b7c8-7248d6e0c7a9",
   "metadata": {},
   "outputs": [],
   "source": [
    "import cupy as cp\n",
    "\n",
    "def find_global_phase_shift_loop_cuda(A, B, num_steps=10000):\n",
    "    \"\"\"\n",
    "    Compute the optimal global phase shift using CUDA (CuPy) with the least squares method.\n",
    "    \n",
    "    Parameters:\n",
    "        A (cupy.ndarray): The first complex array (object).\n",
    "        B (cupy.ndarray): The second real-valued array (reference phase).\n",
    "        num_steps (int): Number of steps for phase search.\n",
    "\n",
    "    Returns:\n",
    "        float: The best phase shift minimizing the least squares error.\n",
    "    \"\"\"\n",
    "\n",
    "    # Move data to GPU\n",
    "    A_gpu = cp.asarray(A)  # A is complex\n",
    "    B_gpu = cp.asarray(B)  # B is real (reference phase)\n",
    "\n",
    "    # Generate phase shift candidates on GPU (num_steps values from -π to π)\n",
    "    phase_range = cp.linspace(-cp.pi, cp.pi, num_steps)\n",
    "\n",
    "    # Expand dimensions to broadcast over the image\n",
    "    phase_range = phase_range[:, None, None]  # Shape: (num_steps, 1, 1)\n",
    "\n",
    "    # Apply phase shifts to A (broadcasted computation)\n",
    "    A_shifted = A_gpu * cp.exp(1j * phase_range)  # Apply phase shifts\n",
    "\n",
    "    # Compute the phase difference with the reference phase B\n",
    "    phase_diff = cp.angle(A_shifted) - B_gpu  # Compute element-wise phase difference\n",
    "\n",
    "    # Compute the least squares error for each phase shift\n",
    "    errors = cp.mean(phase_diff ** 2, axis=(1, 2))  # Mean squared error over image\n",
    "\n",
    "    # Find the phase shift with the smallest error\n",
    "    best_index = cp.argmin(errors)  # Index of minimum error\n",
    "    best_phi = phase_range[best_index].item()  # Convert from GPU to float\n",
    "\n",
    "    return best_phi"
   ]
  },
  {
   "cell_type": "code",
   "execution_count": null,
   "id": "de6dcdda-9e41-40b7-b6dd-0311a40dad24",
   "metadata": {},
   "outputs": [],
   "source": [
    "# Loop through the files and calculate metrics\n",
    "for filename in os.listdir(\".\"):\n",
    "    if \"npy\" in filename and \"crystal\" in filename and \"obj\" in filename and \"_unknown\" in filename and \"PtyINR\" in filename:\n",
    "        obj = np.load(filename)\n",
    "        \n",
    "        # Process object array\n",
    "        obj = obj[:241, :241]\n",
    "        amp = np.abs(obj)[30:-30, 30:-30]\n",
    "        amp = amp * np.median(amp_act) / np.median(amp)\n",
    "        amp = amp.clip(max=1)\n",
    "        phase_shift = find_global_phase_shift_loop_cuda(obj[30:-30, 30:-30], phase_act)\n",
    "        phase = np.angle(obj * np.exp(phase_shift * 1j))[30:-30, 30:-30]\n",
    "        \n",
    "        # Calculate PSNR metrics\n",
    "        psnr_amp_result = psnr_amp(amp, amp_act)\n",
    "        psnr_phase_result = psnr_phase(phase, phase_act)\n",
    "\n",
    "        # Extract PSNR values\n",
    "        psnr_amp_1 = round(psnr_amp_result[0], 2)\n",
    "        psnr_amp_2 = round(psnr_amp_result[1], 2)\n",
    "        psnr_phase_1 = round(psnr_phase_result[0], 2)\n",
    "        psnr_phase_2 = round(psnr_phase_result[1], 2)\n",
    "        print(f\"{filename} : {psnr_amp_1}/{psnr_amp_2}  {psnr_phase_1}/{psnr_phase_2}\")\n"
   ]
  }
 ],
 "metadata": {
  "kernelspec": {
   "display_name": "Python 3 (ipykernel)",
   "language": "python",
   "name": "python3"
  },
  "language_info": {
   "codemirror_mode": {
    "name": "ipython",
    "version": 3
   },
   "file_extension": ".py",
   "mimetype": "text/x-python",
   "name": "python",
   "nbconvert_exporter": "python",
   "pygments_lexer": "ipython3",
   "version": "3.10.12"
  }
 },
 "nbformat": 4,
 "nbformat_minor": 5
}
