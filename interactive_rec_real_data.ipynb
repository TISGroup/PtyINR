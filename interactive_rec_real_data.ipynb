{
 "cells": [
  {
   "cell_type": "markdown",
   "id": "4be405de-6c02-42be-becd-b67698cf073c",
   "metadata": {},
   "source": [
    "## **Import libraries**"
   ]
  },
  {
   "cell_type": "code",
   "execution_count": null,
   "id": "c68d2c34-55e4-4bbf-8ff2-ea71f2c17c63",
   "metadata": {
    "ExecuteTime": {
     "start_time": "2024-10-29T04:51:15.816121Z"
    },
    "jupyter": {
     "is_executing": true
    },
    "tags": []
   },
   "outputs": [],
   "source": [
    "import numpy as np\n",
    "import os\n",
    "import tinycudann as tcnn\n",
    "from utils.Deep_Models import *\n",
    "from Parameters import *\n",
    "from utils.Forward import *\n",
    "from utils.Simulate_Data_Process import*\n",
    "from utils.Training_models import *\n",
    "import h5py\n",
    "import commentjson as json\n",
    "import time\n",
    "import matplotlib.pyplot as plt"
   ]
  },
  {
   "cell_type": "markdown",
   "id": "593f3760-8e72-4905-88e1-a17d3476fd84",
   "metadata": {},
   "source": [
    "## Training\n",
    "\n",
    "You may also change hyperparameters from Parameters.py"
   ]
  },
  {
   "cell_type": "code",
   "execution_count": null,
   "id": "1114421a-98e7-4709-8fe0-cb966b1b181b",
   "metadata": {},
   "outputs": [],
   "source": [
    "parameters[\"tag\"]=\"Experimental_PtyINR\"      # final output file name\n",
    "parameters[\"probe_known\"]=False             # probe is provided or not\n",
    "parameters[\"total_steps\"] = 8000            # total training steps\n",
    "parameters[\"diffraction_scale\"]=1600        # the diffraction patterns will be divided by this value to ensure the loss is not too large for optimization as LR is usually below 1\n",
    "\n",
    "parameters[\"train_method\"]=\"mini_batch\"   \n",
    "parameters[\"batches\"]=9800      # batch size for each loss backward\n",
    "parameters[\"LR\"]=6e-5           # for object amplitude       \n",
    "parameters[\"LR2\"]=6e-5         # for object phase \n",
    "parameters[\"LR3\"]=5e-5           # for probe amplitude\n",
    "parameters[\"LR4\"]=5e-5         # for probe phase\n",
    "parameters[\"regularized_loss_weight\"]= 1e-1     \n",
    "parameters[\"regularized_steps\"]=20\n",
    "parameters[\"first_omega\"]=30               # adjust it higher to get better details, please see paper for more details on this parameter\n",
    "\n",
    "parameters[\"loss\"]=\"SmoothL1\"\n",
    "parameters[\"beta_for_smoothl1\"]=1e-3 "
   ]
  },
  {
   "cell_type": "code",
   "execution_count": null,
   "id": "fa2d65ac-fa5e-483c-bd98-e4c57ab2549a",
   "metadata": {},
   "outputs": [],
   "source": [
    "parameters[\"show_every\"]=50   # show the results every xx steps"
   ]
  },
  {
   "cell_type": "code",
   "execution_count": null,
   "id": "40c26361-c338-454d-9f10-2c21b818b84a",
   "metadata": {
    "scrolled": true,
    "tags": []
   },
   "outputs": [],
   "source": [
    "train_model(parameters,f,probe)"
   ]
  }
 ],
 "metadata": {
  "kernelspec": {
   "display_name": "Python 3 (ipykernel)",
   "language": "python",
   "name": "python3"
  },
  "language_info": {
   "codemirror_mode": {
    "name": "ipython",
    "version": 3
   },
   "file_extension": ".py",
   "mimetype": "text/x-python",
   "name": "python",
   "nbconvert_exporter": "python",
   "pygments_lexer": "ipython3",
   "version": "3.10.12"
  }
 },
 "nbformat": 4,
 "nbformat_minor": 5
}
