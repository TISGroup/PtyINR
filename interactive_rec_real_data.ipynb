{
 "cells": [
  {
   "cell_type": "markdown",
   "id": "4be405de-6c02-42be-becd-b67698cf073c",
   "metadata": {},
   "source": [
    "## **Import libraries**"
   ]
  },
  {
   "cell_type": "code",
   "execution_count": null,
   "id": "c68d2c34-55e4-4bbf-8ff2-ea71f2c17c63",
   "metadata": {
    "ExecuteTime": {
     "start_time": "2024-10-29T04:51:15.816121Z"
    },
    "jupyter": {
     "is_executing": true
    },
    "tags": []
   },
   "outputs": [],
   "source": [
    "import numpy as np\n",
    "import os\n",
    "os.environ[\"CUDA_VISIBLE_DEVICES\"]=\"7\"\n",
    "import tinycudann as tcnn\n",
    "from utils.Deep_Models import *\n",
    "from Parameters import *\n",
    "from utils.Forward import *\n",
    "from utils.Simulate_Data_Process import*\n",
    "from utils.Training_models import *\n",
    "import h5py\n",
    "import commentjson as json\n",
    "import time"
   ]
  },
  {
   "cell_type": "code",
   "execution_count": null,
   "id": "917ea581-1c8e-463a-bdb7-c8e95a4b19b7",
   "metadata": {},
   "outputs": [],
   "source": [
    "import numpy as np"
   ]
  },
  {
   "cell_type": "code",
   "execution_count": null,
   "id": "8c946159-a0e7-4f4c-90ac-9fa9222f33ec",
   "metadata": {},
   "outputs": [],
   "source": [
    "import matplotlib.pyplot as plt"
   ]
  },
  {
   "cell_type": "code",
   "execution_count": null,
   "id": "ad160679-57cc-48f8-b5b0-62c91457b932",
   "metadata": {},
   "outputs": [],
   "source": [
    "h5=h5py.File(\"data/scan_203104.h5\", 'r')"
   ]
  },
  {
   "cell_type": "code",
   "execution_count": null,
   "id": "05cf0d16-badf-48e3-9a47-070a7250513a",
   "metadata": {},
   "outputs": [],
   "source": [
    "tag=\"3104\"\n",
    "parameters[\"probe_shape\"]=\"rect\"\n",
    "parameters[\"probe_known\"]=False\n",
    "parameters[\"probe_center_tol\"]=None"
   ]
  },
  {
   "cell_type": "markdown",
   "id": "2ff334ff-1db3-433c-969a-23f15029a105",
   "metadata": {},
   "source": [
    "## **Iterative methods**"
   ]
  },
  {
   "cell_type": "markdown",
   "id": "3cbda3a3-269c-4cb4-be80-ebfcf9f4bec6",
   "metadata": {},
   "source": [
    "### 1) ePIE"
   ]
  },
  {
   "cell_type": "code",
   "execution_count": null,
   "id": "5f1a8f5c-eadf-450c-9016-f49b752f06fb",
   "metadata": {
    "ExecuteTime": {
     "end_time": "2024-10-22T11:12:36.188830Z",
     "start_time": "2024-10-22T11:12:36.177638Z"
    },
    "tags": []
   },
   "outputs": [],
   "source": [
    "parameters[\"tag\"]=tag+\"_ePIE\"\n",
    "parameters[\"total_steps\"] = 50\n",
    "parameters[\"a\"]=1\n",
    "parameters[\"b\"]=1\n",
    "parameters[\"probe_update_start\"]=0"
   ]
  },
  {
   "cell_type": "code",
   "execution_count": null,
   "id": "0ab741ea-59d7-4c1f-b058-c0249a02161c",
   "metadata": {},
   "outputs": [],
   "source": [
    "train_model(parameters,h5,probe,model_name=\"ePIE\",trained=False)"
   ]
  },
  {
   "cell_type": "markdown",
   "id": "e43fac4c-07d3-4b5b-9339-8c7875e50e2a",
   "metadata": {},
   "source": [
    "### 2) DM"
   ]
  },
  {
   "cell_type": "code",
   "execution_count": null,
   "id": "eaba6c47-a259-4efb-ad19-9f38f7890b30",
   "metadata": {
    "ExecuteTime": {
     "end_time": "2024-10-22T10:10:11.944770Z",
     "start_time": "2024-10-22T10:10:11.934866Z"
    },
    "tags": []
   },
   "outputs": [],
   "source": [
    "parameters[\"tag\"]=tag+\"_DM\"\n",
    "parameters[\"total_steps\"] = 500\n",
    "parameters[\"DM_alpha\"]=0.95\n",
    "parameters[\"fourier_relax_factor\"]=0\n",
    "parameters[\"probe_update_start\"]=0"
   ]
  },
  {
   "cell_type": "code",
   "execution_count": null,
   "id": "82e2c8e9-c358-420f-9964-824120671e80",
   "metadata": {
    "scrolled": true,
    "tags": []
   },
   "outputs": [],
   "source": [
    "train_model(parameters,h5,probe,model_name=\"DM\",trained=False)"
   ]
  },
  {
   "cell_type": "markdown",
   "id": "30cdfca3-0cd8-45dd-9916-6b6d53a98ae6",
   "metadata": {},
   "source": [
    "## **Deep methods**"
   ]
  },
  {
   "cell_type": "markdown",
   "id": "593f3760-8e72-4905-88e1-a17d3476fd84",
   "metadata": {},
   "source": [
    "## 1) PtyINR"
   ]
  },
  {
   "cell_type": "code",
   "execution_count": null,
   "id": "a1f1dd41-a89d-4cf0-b8a3-0d6300d36615",
   "metadata": {},
   "outputs": [],
   "source": [
    "parameters[\"tag\"]=tag+\"_PtyINR\"\n",
    "parameters[\"total_steps\"] = 140\n",
    "parameters[\"diffraction_scale\"]=1600 # original 400\n",
    "parameters[\"batches\"]=9800\n",
    "#parameters[\"batches\"].append(489)\n",
    "parameters[\"LR\"]=1e-4           # for object amplitude       \n",
    "parameters[\"LR2\"]=1e-4         # for object phase \n",
    "parameters[\"LR3\"]=5e-5           # for probe amplitude\n",
    "parameters[\"LR4\"]=5e-5         # for probe phase\n",
    "parameters[\"regularized_loss_weight\"]=1.5e-1      #1\n",
    "parameters[\"regularized_steps\"]=20\n",
    "parameters[\"show_every\"]=10\n",
    "parameters[\"first_omega\"]=120\n",
    "parameters[\"loss\"]=\"SmoothL1\"\n",
    "parameters[\"beta_for_smoothl1\"]=1e-1\n",
    "parameters[\"model_type\"]=\"siren\""
   ]
  },
  {
   "cell_type": "code",
   "execution_count": null,
   "id": "f24979a6-4868-4463-8da1-c388c6278ff2",
   "metadata": {
    "tags": []
   },
   "outputs": [],
   "source": [
    "train_model(None,parameters,h5,probe,model_name=\"Pty_INR\",trained=False)"
   ]
  }
 ],
 "metadata": {
  "kernelspec": {
   "display_name": "Python 3 (ipykernel)",
   "language": "python",
   "name": "python3"
  },
  "language_info": {
   "codemirror_mode": {
    "name": "ipython",
    "version": 3
   },
   "file_extension": ".py",
   "mimetype": "text/x-python",
   "name": "python",
   "nbconvert_exporter": "python",
   "pygments_lexer": "ipython3",
   "version": "3.10.12"
  }
 },
 "nbformat": 4,
 "nbformat_minor": 5
}
