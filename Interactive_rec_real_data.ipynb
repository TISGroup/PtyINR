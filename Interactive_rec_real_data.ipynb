{
 "cells": [
  {
   "cell_type": "markdown",
   "id": "4be405de-6c02-42be-becd-b67698cf073c",
   "metadata": {},
   "source": [
    "## **Import libraries**"
   ]
  },
  {
   "cell_type": "code",
   "execution_count": null,
   "id": "c68d2c34-55e4-4bbf-8ff2-ea71f2c17c63",
   "metadata": {
    "ExecuteTime": {
     "start_time": "2024-10-29T04:51:15.816121Z"
    },
    "jupyter": {
     "is_executing": true
    },
    "tags": []
   },
   "outputs": [],
   "source": [
    "import numpy as np\n",
    "import tinycudann as tcnn\n",
    "from utils.Deep_Models import *\n",
    "from Parameters import *\n",
    "from utils.Forward import *\n",
    "from utils.Simulate_Data_Process import*\n",
    "from utils.Training_models import *\n",
    "import h5py\n",
    "import commentjson as json\n",
    "import time"
   ]
  },
  {
   "cell_type": "code",
   "execution_count": null,
   "id": "ad160679-57cc-48f8-b5b0-62c91457b932",
   "metadata": {},
   "outputs": [],
   "source": [
    "h5=h5py.File(\"data/scan_203104.h5\", 'r')"
   ]
  },
  {
   "cell_type": "code",
   "execution_count": null,
   "id": "205d5d0e-74be-4e55-a1b0-031958be9523",
   "metadata": {},
   "outputs": [],
   "source": [
    "tag=\"3104\"\n",
    "parameters[\"probe_shape\"]=\"circ\"\n",
    "parameters[\"probe_known\"]=True\n",
    "parameters[\"probe_center_tol\"]=0"
   ]
  },
  {
   "cell_type": "markdown",
   "id": "2ff334ff-1db3-433c-969a-23f15029a105",
   "metadata": {},
   "source": [
    "## **Iterative methods**"
   ]
  },
  {
   "cell_type": "markdown",
   "id": "3cbda3a3-269c-4cb4-be80-ebfcf9f4bec6",
   "metadata": {},
   "source": [
    "### 1) ePIE"
   ]
  },
  {
   "cell_type": "code",
   "execution_count": null,
   "id": "32156921-7a26-467b-a31c-3d70bb69ef1d",
   "metadata": {
    "ExecuteTime": {
     "end_time": "2024-10-22T11:12:36.188830Z",
     "start_time": "2024-10-22T11:12:36.177638Z"
    },
    "tags": []
   },
   "outputs": [],
   "source": [
    "parameters[\"tag\"]=tag+\"_ePIE\"\n",
    "parameters[\"total_steps\"] = 10\n",
    "parameters[\"a\"]=1\n",
    "parameters[\"b\"]=1\n",
    "parameters[\"probe_update_start\"]=0"
   ]
  },
  {
   "cell_type": "code",
   "execution_count": null,
   "id": "621be6eb-207a-4ce1-af00-548ec4d3bc39",
   "metadata": {},
   "outputs": [],
   "source": [
    "train_model(parameters,h5,probe,model_name=\"ePIE\",trained=False) "
   ]
  },
  {
   "cell_type": "code",
   "execution_count": null,
   "id": "2d64a064-52f7-4b57-92fd-cf934122bde4",
   "metadata": {},
   "outputs": [],
   "source": [
    "a=np.load(\"result/3104_ePIE_obj.npy\")  #100\n",
    "plt.imshow(np.angle(a)[60:-60,60:-60]) "
   ]
  },
  {
   "cell_type": "markdown",
   "id": "4423c5db-4635-4f7f-84f1-009089dc909e",
   "metadata": {},
   "source": [
    "### 2) DM"
   ]
  },
  {
   "cell_type": "code",
   "execution_count": null,
   "id": "ef897665-2f90-4d8d-9664-dc7e51af9d60",
   "metadata": {
    "ExecuteTime": {
     "end_time": "2024-10-22T10:10:11.944770Z",
     "start_time": "2024-10-22T10:10:11.934866Z"
    },
    "tags": []
   },
   "outputs": [],
   "source": [
    "parameters[\"tag\"]=tag+\"_DM\"\n",
    "parameters[\"total_steps\"] = 100\n",
    "parameters[\"DM_alpha\"]=0.95\n",
    "parameters[\"fourier_relax_factor\"]=0\n",
    "parameters[\"probe_update_start\"]=0"
   ]
  },
  {
   "cell_type": "code",
   "execution_count": null,
   "id": "f8c66c1e-a8bf-47da-9b5a-fcc0b019262d",
   "metadata": {
    "tags": []
   },
   "outputs": [],
   "source": [
    "train_model(parameters,h5,probe,model_name=\"DM\",trained=False)"
   ]
  },
  {
   "cell_type": "code",
   "execution_count": null,
   "id": "a24dd5e2-4ac4-42ef-a490-fff1eeb0f5ca",
   "metadata": {},
   "outputs": [],
   "source": [
    "a=np.load(\"result/3104_DM_obj.npy\")\n",
    "plt.imshow(np.angle(a)[60:-60,60:-60])"
   ]
  },
  {
   "cell_type": "code",
   "execution_count": null,
   "id": "fc95aa3c-f60f-485f-937c-0b049ebf9d34",
   "metadata": {},
   "outputs": [],
   "source": [
    "a=np.load(\"result/3104_DM_obj.npy\")\n",
    "plt.imshow(np.angle(a)[60:-60,60:-60])"
   ]
  },
  {
   "cell_type": "code",
   "execution_count": null,
   "id": "e997f5c7-d9c8-4fdd-b6d3-7c8a5c332e26",
   "metadata": {},
   "outputs": [],
   "source": [
    "a=np.load(\"result/3104_DM_obj.npy\")\n",
    "plt.imshow(np.angle(a)[60:-60,60:-60])"
   ]
  },
  {
   "cell_type": "code",
   "execution_count": null,
   "id": "0d68e11f-ce03-45b0-8f3a-536c3b26de6e",
   "metadata": {},
   "outputs": [],
   "source": [
    "a=np.load(\"result/3104_DM_obj.npy\")\n",
    "plt.imshow(np.angle(a)[60:-60,60:-60])"
   ]
  },
  {
   "cell_type": "code",
   "execution_count": null,
   "id": "43f2b697-c5ac-4929-a916-525a3b508c2b",
   "metadata": {},
   "outputs": [],
   "source": [
    "a=np.load(\"result/3104_DM_probe.npy\")\n",
    "plt.imshow(np.angle(a))"
   ]
  },
  {
   "cell_type": "code",
   "execution_count": null,
   "id": "4e25c7af-7924-4c44-bceb-fc09c994e572",
   "metadata": {},
   "outputs": [],
   "source": [
    "a=np.load(\"result/3104_DM_obj.npy\")\n",
    "plt.imshow(np.angle(a)[60:-60,60:-60])"
   ]
  },
  {
   "cell_type": "code",
   "execution_count": null,
   "id": "8557c183-87af-43a6-acc0-685d5412374b",
   "metadata": {},
   "outputs": [],
   "source": [
    "a=np.load(\"result/3104_DM_obj.npy\")\n",
    "plt.imshow(np.angle(a)[60:-60,60:-60])"
   ]
  },
  {
   "cell_type": "code",
   "execution_count": null,
   "id": "7850016f-7715-468f-a275-54120ffbeadc",
   "metadata": {},
   "outputs": [],
   "source": [
    "a=np.load(\"result/3104_DM_obj.npy\")\n",
    "plt.imshow(np.angle(a)[60:-60,60:-60])"
   ]
  },
  {
   "cell_type": "code",
   "execution_count": null,
   "id": "858c37aa-4daf-4c4d-b64d-0bc907ac3ff9",
   "metadata": {},
   "outputs": [],
   "source": [
    "a=np.load(\"result/3104_DM_obj.npy\")\n",
    "plt.imshow(np.angle(a)[60:-60,60:-60])"
   ]
  },
  {
   "cell_type": "code",
   "execution_count": null,
   "id": "f227578e-d391-429a-b1fc-bff4d6224bb8",
   "metadata": {},
   "outputs": [],
   "source": [
    "a=np.load(\"result/3104_DM_obj.npy\")\n",
    "plt.imshow(np.angle(a)[60:-60,60:-60])\n"
   ]
  },
  {
   "cell_type": "code",
   "execution_count": null,
   "id": "50cdf67e-c4a2-46a6-bf05-ce84a0602606",
   "metadata": {},
   "outputs": [],
   "source": [
    "a=np.load(\"result/3104_DM_probe.npy\")\n",
    "plt.imshow(np.angle(a))"
   ]
  },
  {
   "cell_type": "markdown",
   "id": "30cdfca3-0cd8-45dd-9916-6b6d53a98ae6",
   "metadata": {},
   "source": [
    "## **Deep methods**"
   ]
  },
  {
   "cell_type": "markdown",
   "id": "593f3760-8e72-4905-88e1-a17d3476fd84",
   "metadata": {},
   "source": [
    "## 1) PtyINR"
   ]
  },
  {
   "cell_type": "code",
   "execution_count": null,
   "id": "a2be8467-71ab-4aad-a064-de08073ca191",
   "metadata": {},
   "outputs": [],
   "source": [
    "parameters[\"tag\"]=\"crystal_\"+noise_tag+\"_Pty_INR_\"+str(overlap)+\"_\"+probe_tag\n",
    "parameters[\"total_steps\"] = 3000\n",
    "parameters[\"diffraction_scale\"]=1600\n",
    "parameters[\"batches\"]=[9800,9800]\n",
    "parameters[\"LR\"]=1e-4            # for object amplitude       \n",
    "parameters[\"LR2\"]=1e-4         # for object phase \n",
    "parameters[\"LR3\"]=5e-5           # for probe amplitude\n",
    "parameters[\"LR4\"]=5e-5         # for probe phase\n",
    "parameters[\"regularized_loss_weight\"]=1e-2        #1\n",
    "parameters[\"regularized_steps\"]=50\n",
    "parameters[\"show_every\"]=50\n",
    "parameters[\"first_omega\"]=60\n",
    "parameters[\"loss\"]=\"SmoothL1\"\n",
    "parameters[\"beta_for_smoothl1\"]=1e-5"
   ]
  },
  {
   "cell_type": "markdown",
   "id": "053543e0-8eea-4998-9f71-a87b71f16232",
   "metadata": {
    "tags": []
   },
   "source": [
    "train_model(parameters,h5,probe,model_name=\"Pty_INR\",trained=False)"
   ]
  }
 ],
 "metadata": {
  "kernelspec": {
   "display_name": "Python 3 (ipykernel)",
   "language": "python",
   "name": "python3"
  },
  "language_info": {
   "codemirror_mode": {
    "name": "ipython",
    "version": 3
   },
   "file_extension": ".py",
   "mimetype": "text/x-python",
   "name": "python",
   "nbconvert_exporter": "python",
   "pygments_lexer": "ipython3",
   "version": "3.10.12"
  }
 },
 "nbformat": 4,
 "nbformat_minor": 5
}
