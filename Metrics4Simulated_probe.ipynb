{
 "cells": [
  {
   "cell_type": "code",
   "execution_count": null,
   "id": "847267f5-5742-4141-baa3-e8b26f09f113",
   "metadata": {
    "tags": []
   },
   "outputs": [],
   "source": [
    "import numpy as np\n",
    "import matplotlib.pyplot as plt\n",
    "import os\n",
    "from PIL import Image,ImageChops\n",
    "from torchvision.transforms import Resize, Compose, ToTensor, Normalize, Grayscale, Pad\n",
    "import matplotlib.pyplot as plt\n",
    "from skimage import data\n",
    "import skimage\n",
    "from skimage.metrics import structural_similarity as ssim\n",
    "from scipy.signal import correlate2d"
   ]
  },
  {
   "cell_type": "markdown",
   "id": "a66298be-6d04-4bb0-9132-b9dfd2462c18",
   "metadata": {},
   "source": [
    "## Load ground truth"
   ]
  },
  {
   "cell_type": "code",
   "execution_count": null,
   "id": "2f76b612-7192-4e8a-b561-34429b98f0be",
   "metadata": {
    "tags": []
   },
   "outputs": [],
   "source": [
    "obj_act=np.load(\"data/crystal.npy\")\n",
    "obj_act=obj_act[-241:,-241:]\n",
    "obj_act=obj_act[30:-30,30:-30]\n",
    "probe_act=np.load(\"data/probe_for_sim.npy\")[24:-24,24:-24]"
   ]
  },
  {
   "cell_type": "code",
   "execution_count": null,
   "id": "3dcd295d-34a4-46fd-b5c6-ec5b58066f14",
   "metadata": {},
   "outputs": [],
   "source": [
    "np.abs(probe_act).max()"
   ]
  },
  {
   "cell_type": "code",
   "execution_count": null,
   "id": "0d03842c-5368-424f-9dc0-c1175bafa551",
   "metadata": {
    "tags": []
   },
   "outputs": [],
   "source": [
    "amp_act=np.abs(obj_act)\n",
    "phase_act=np.angle(obj_act)\n",
    "phase_act = phase_act - np.median(phase_act)"
   ]
  },
  {
   "cell_type": "code",
   "execution_count": null,
   "id": "c275ed9d-f15b-4beb-8319-658534af3605",
   "metadata": {},
   "outputs": [],
   "source": [
    "probe_amp_act=np.abs(probe_act)/np.abs(probe_act).max()\n",
    "probe_phase_act=np.angle(probe_act)\n",
    "#probe_phase_act = probe_phase_act - probe_phase_act.min()"
   ]
  },
  {
   "cell_type": "code",
   "execution_count": null,
   "id": "51f1e776-7445-481b-a75a-aff8280c0b8e",
   "metadata": {
    "tags": []
   },
   "outputs": [],
   "source": [
    "current_path=os.getcwd()"
   ]
  },
  {
   "cell_type": "code",
   "execution_count": null,
   "id": "f50b5a3e-1c75-4840-82be-1cdb8d70ddfa",
   "metadata": {
    "tags": []
   },
   "outputs": [],
   "source": [
    "current_path"
   ]
  },
  {
   "cell_type": "code",
   "execution_count": null,
   "id": "910d65cd-ed83-4a92-87a8-d85de1b5b12f",
   "metadata": {
    "tags": []
   },
   "outputs": [],
   "source": [
    "def psnr_amp(original, compressed): \n",
    "    mse = np.mean((original - compressed) ** 2) \n",
    "    if(mse == 0):  # MSE is zero means no noise is present in the signal . \n",
    "                  # Therefore PSNR have no importance. \n",
    "        return 100\n",
    "    max_pixel = 1.0\n",
    "    psnr = 20 * log10(max_pixel / sqrt(mse)) \n",
    "    return [psnr,ssim(original,compressed,data_range=1)] "
   ]
  },
  {
   "cell_type": "code",
   "execution_count": null,
   "id": "f7ed0077-c01d-4c22-ae1b-a50c65967be2",
   "metadata": {
    "tags": []
   },
   "outputs": [],
   "source": [
    "def psnr_phase(original, compressed): \n",
    "    mse = np.mean((original - compressed) ** 2) \n",
    "    if(mse == 0):  # MSE is zero means no noise is present in the signal . \n",
    "                  # Therefore PSNR have no importance. \n",
    "        return 100\n",
    "    max_pixel = np.pi\n",
    "    psnr = 20 * log10(max_pixel / sqrt(mse)) \n",
    "    return [psnr,ssim(original,compressed,data_range=2*np.pi)] "
   ]
  },
  {
   "cell_type": "code",
   "execution_count": null,
   "id": "681ec89a-90c0-4884-b99e-9bdaa3670506",
   "metadata": {
    "tags": []
   },
   "outputs": [],
   "source": [
    "from math import log10, sqrt "
   ]
  },
  {
   "cell_type": "code",
   "execution_count": null,
   "id": "ec96478b-2eb7-4a9b-959d-5cbff56b4d6e",
   "metadata": {},
   "outputs": [],
   "source": [
    "os.chdir(\"result\")"
   ]
  },
  {
   "cell_type": "code",
   "execution_count": null,
   "id": "81dc4512-3d08-4885-a063-fcaccf7a91fa",
   "metadata": {},
   "outputs": [],
   "source": [
    "plt.imshow(np.sqrt(np.abs(probe_act)),cmap=\"grey\")"
   ]
  },
  {
   "cell_type": "code",
   "execution_count": null,
   "id": "5d245b30-dec5-4e4f-835a-86896edc88ae",
   "metadata": {},
   "outputs": [],
   "source": [
    "plt.imshow((np.angle(probe_act)),cmap=\"magma\")"
   ]
  },
  {
   "cell_type": "markdown",
   "id": "95ef7211-4b3b-4ccd-b8f1-f94c6036b62e",
   "metadata": {},
   "source": [
    "## Find the phase shift of the probe phase using the least square method"
   ]
  },
  {
   "cell_type": "code",
   "execution_count": null,
   "id": "4cd9aad0-8da3-4b4d-889f-78bf436a238a",
   "metadata": {},
   "outputs": [],
   "source": [
    "def find_global_phase_shift_loop(A, B, num_steps=100000):\n",
    "    best_phi = 0\n",
    "    min_error = float('inf')\n",
    "\n",
    "    phase_range = np.linspace(-np.pi, np.pi, num_steps)\n",
    "\n",
    "    for phi in phase_range:\n",
    "        phase_factor = np.exp(1j * phi)\n",
    "        error =  np.mean((np.angle(A*np.exp(phi*1j))-B)**2) # Compute least squares error\n",
    "\n",
    "        if error < min_error:\n",
    "            min_error = error\n",
    "            best_phi = phi  # Update best phase shift\n",
    "\n",
    "    return best_phi"
   ]
  },
  {
   "cell_type": "markdown",
   "id": "455241ad-4469-4cf9-bd85-6777e14100be",
   "metadata": {},
   "source": [
    "## Calculate the PSNR of object amplitude and phase with CPU"
   ]
  },
  {
   "cell_type": "code",
   "execution_count": null,
   "id": "b1533e50-700e-417f-a5c4-f0e8d8e88cbd",
   "metadata": {},
   "outputs": [],
   "source": [
    "# Loop through the files and calculate metrics\n",
    "for j in os.listdir(\".\"):\n",
    "    if \"npy\" in j and \"crystal\" in j and \"probe.\" in j and \"_unknown\" in j and \"PtyINR\" in j:\n",
    "        obj = np.load(j)\n",
    "        \n",
    "        amp = np.abs(obj)/np.abs(obj).max()\n",
    "        amp = amp * np.median(probe_amp_act) / np.median(amp)\n",
    "        phase = np.angle(obj)\n",
    "        phase_shift = find_global_phase_shift_loop(obj,probe_phase_act)\n",
    "        phase=np.angle(obj*np.exp(phase_shift*1j))\n",
    "        \n",
    "        \n",
    "        # plt.imsave(\"images/\"+(j[:-4]+\"_probe_amp.tiff\"),np.sqrt(amp),vmin=np.sqrt(probe_amp_act).min(), vmax=np.sqrt(probe_amp_act).max(),cmap=\"grey\")\n",
    "        # plt.imsave((\"images/\"+j[:-4]+\"_probe_phase.tiff\"),phase,vmin=probe_phase_act.min(), vmax=probe_phase_act.max(),cmap=\"magma\")\n",
    "        # plt.imsave(\"images/\"+(j[:-4]+\"_amp_croped.tiff\"),np.sqrt(amp[18:-18,18:-18]),vmin=np.sqrt(probe_amp_act).min()\n",
    "        #            , vmax=np.sqrt(probe_amp_act).max(),cmap=\"grey\")\n",
    "        # plt.imsave((\"images/\"+j[:-4]+\"_phase_croped.tiff\"),phase[18:-18,18:-18],vmin=probe_phase_act.min()\n",
    "        #            , vmax=probe_phase_act.max(),cmap=\"magma\")\n",
    "\n",
    "\n",
    "        \n",
    "        # Calculate PSNR metrics\n",
    "        psnr_amp_result = psnr_amp(amp, probe_amp_act)\n",
    "        psnr_phase_result = psnr_phase(phase, probe_phase_act)\n",
    "\n",
    "        # Extract results\n",
    "        psnr_amp_1 = round(psnr_amp_result[0], 2)\n",
    "        psnr_amp_2 = round(psnr_amp_result[1], 2)\n",
    "        psnr_phase_1 = round(psnr_phase_result[0], 2)\n",
    "        psnr_phase_2 = round(psnr_phase_result[1], 2)\n",
    "\n",
    "        # Print results for debugging\n",
    "        print(f\"{j} : {psnr_amp_1}/{psnr_amp_2}  {psnr_phase_1}/{psnr_phase_2}\")"
   ]
  },
  {
   "cell_type": "code",
   "execution_count": null,
   "id": "8576d951-a289-4180-8570-b5648ca29462",
   "metadata": {},
   "outputs": [],
   "source": []
  }
 ],
 "metadata": {
  "kernelspec": {
   "display_name": "Python 3 (ipykernel)",
   "language": "python",
   "name": "python3"
  },
  "language_info": {
   "codemirror_mode": {
    "name": "ipython",
    "version": 3
   },
   "file_extension": ".py",
   "mimetype": "text/x-python",
   "name": "python",
   "nbconvert_exporter": "python",
   "pygments_lexer": "ipython3",
   "version": "3.10.12"
  }
 },
 "nbformat": 4,
 "nbformat_minor": 5
}
